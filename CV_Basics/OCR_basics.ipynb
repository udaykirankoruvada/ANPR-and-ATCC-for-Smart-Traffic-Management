{
 "cells": [
  {
   "cell_type": "code",
   "execution_count": 24,
   "id": "43e37312-8185-4b4f-9894-917e959ab637",
   "metadata": {},
   "outputs": [],
   "source": [
    "path = \"img3.jpg\""
   ]
  },
  {
   "cell_type": "code",
   "execution_count": 25,
   "id": "26d65864-cbb9-4045-8a16-2027e8ed6fc0",
   "metadata": {},
   "outputs": [],
   "source": [
    "from PIL import Image\n",
    "import pytesseract\n",
    "\n",
    "def extract_text(image_path):\n",
    "    with Image.open(image_path) as img:\n",
    "        text = pytesseract.image_to_string(img, lang='eng')\n",
    "        print(text)   "
   ]
  },
  {
   "cell_type": "code",
   "execution_count": 26,
   "id": "e7439c2f-99d4-4184-9eff-c8399ce2b1ed",
   "metadata": {},
   "outputs": [
    {
     "name": "stdout",
     "output_type": "stream",
     "text": [
      " \n",
      "\n",
      "Image ID: D2W2MA\n",
      "PCa)\n",
      "\n",
      " \n",
      "\f",
      "\n"
     ]
    }
   ],
   "source": [
    "extract_text(path)"
   ]
  },
  {
   "cell_type": "code",
   "execution_count": 17,
   "id": "a1639cae-bbb4-4317-989b-bf189588626e",
   "metadata": {},
   "outputs": [
    {
     "name": "stdout",
     "output_type": "stream",
     "text": [
      "{'text': 'MM 02VD 263', 'confidence': 0.6776943802833557}\n"
     ]
    }
   ],
   "source": [
    "from easy_paddle_ocr import TextRecognizer\n",
    "import time\n",
    "import cv2\n",
    "\n",
    "text_recognizer = TextRecognizer() \n",
    "\n",
    "image = cv2.imread(path)\n",
    "\n",
    "prediction = text_recognizer.read(image)\n",
    "\n",
    "print(prediction)"
   ]
  },
  {
   "cell_type": "code",
   "execution_count": null,
   "id": "3519a5b1-2bd8-4182-8644-0fcf69ee0f56",
   "metadata": {},
   "outputs": [],
   "source": []
  }
 ],
 "metadata": {
  "kernelspec": {
   "display_name": "Python 3 (ipykernel)",
   "language": "python",
   "name": "python3"
  },
  "language_info": {
   "codemirror_mode": {
    "name": "ipython",
    "version": 3
   },
   "file_extension": ".py",
   "mimetype": "text/x-python",
   "name": "python",
   "nbconvert_exporter": "python",
   "pygments_lexer": "ipython3",
   "version": "3.8.10"
  }
 },
 "nbformat": 4,
 "nbformat_minor": 5
}
