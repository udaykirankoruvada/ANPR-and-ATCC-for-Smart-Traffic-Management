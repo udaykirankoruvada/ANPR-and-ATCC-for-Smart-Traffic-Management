{
 "cells": [
  {
   "cell_type": "code",
   "execution_count": 1,
   "id": "b4fb4a91-6ba2-40f6-a51a-403f5c452a6f",
   "metadata": {},
   "outputs": [],
   "source": [
    "import cv2\n",
    "from ultralytics import YOLO\n"
   ]
  },
  {
   "cell_type": "code",
   "execution_count": 2,
   "id": "5671cde4-9e22-4ee3-a2e9-08f14a188248",
   "metadata": {},
   "outputs": [],
   "source": [
    "model = YOLO(\"yolov8m.pt\")"
   ]
  },
  {
   "cell_type": "code",
   "execution_count": null,
   "id": "992a1abc-3341-4e37-b449-868a154c2831",
   "metadata": {},
   "outputs": [],
   "source": [
    "# Readig video frames\n",
    "\n",
    "video = cv2.VideoCapture('traffic_video.mp4')\n",
    "\n",
    "# cv2.waitKey(0)\n",
    "# cv2.destroyAllWindows()"
   ]
  },
  {
   "cell_type": "code",
   "execution_count": 4,
   "id": "83729455-e8c1-4689-9706-3ee40b394304",
   "metadata": {
    "scrolled": true
   },
   "outputs": [],
   "source": [
    "if __name__ == \"__main__\": \n",
    "   \n",
    "    cap = cv2.VideoCapture('traffic_video.mp4') \n",
    "       \n",
    "    while (cap.isOpened()): \n",
    "        ret, img = cap.read() \n",
    "        \n",
    "        # results = model.predict(img)\n",
    "        \n",
    "\n",
    "        if ret == True: \n",
    "            cv2.imshow('original video', img) \n",
    "\n",
    "            cv2.waitKey(30)\n",
    "            cv2.destroyAllWindows()\n",
    "               \n",
    "            if cv2.waitKey(25) & 0xFF == ord('q'): \n",
    "                break\n",
    "               \n",
    "        else: \n",
    "            break\n",
    "               \n",
    "    cap.release() \n",
    "    cv2.destroyAllWindows()"
   ]
  },
  {
   "cell_type": "code",
   "execution_count": 5,
   "id": "f7392ba9-b535-45c7-8d40-4bf3b613dddd",
   "metadata": {},
   "outputs": [],
   "source": [
    "def read_video(video_path):\n",
    "    cap = cv2.VideoCapture(video_path)\n",
    "    frames = []\n",
    "    \n",
    "    while True:\n",
    "        ret, frame = cap.read()\n",
    "        if not ret:\n",
    "            break\n",
    "        frames.append(frame)\n",
    "\n",
    "    return frames \n",
    "\n",
    "video_frames = read_video(\"traffic_video.mp4\")"
   ]
  },
  {
   "cell_type": "code",
   "execution_count": null,
   "id": "4a315dc1-b87a-4dc7-b3c3-49a04c35862c",
   "metadata": {},
   "outputs": [],
   "source": []
  }
 ],
 "metadata": {
  "kernelspec": {
   "display_name": "Python 3 (ipykernel)",
   "language": "python",
   "name": "python3"
  },
  "language_info": {
   "codemirror_mode": {
    "name": "ipython",
    "version": 3
   },
   "file_extension": ".py",
   "mimetype": "text/x-python",
   "name": "python",
   "nbconvert_exporter": "python",
   "pygments_lexer": "ipython3",
   "version": "3.8.10"
  }
 },
 "nbformat": 4,
 "nbformat_minor": 5
}
